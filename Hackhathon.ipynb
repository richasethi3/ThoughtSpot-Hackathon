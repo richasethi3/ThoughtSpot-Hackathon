{
 "cells": [
  {
   "cell_type": "code",
   "execution_count": 1,
   "metadata": {},
   "outputs": [],
   "source": [
    "import pandas as pd\n",
    "import numpy as np\n",
    "import matplotlib.pyplot as plt\n",
    "import seaborn as sns"
   ]
  },
  {
   "cell_type": "code",
   "execution_count": 2,
   "metadata": {},
   "outputs": [],
   "source": [
    "df = pd.read_csv('Indiana DCS.csv')"
   ]
  },
  {
   "cell_type": "code",
   "execution_count": 3,
   "metadata": {},
   "outputs": [
    {
     "data": {
      "text/html": [
       "<div>\n",
       "<style scoped>\n",
       "    .dataframe tbody tr th:only-of-type {\n",
       "        vertical-align: middle;\n",
       "    }\n",
       "\n",
       "    .dataframe tbody tr th {\n",
       "        vertical-align: top;\n",
       "    }\n",
       "\n",
       "    .dataframe thead th {\n",
       "        text-align: right;\n",
       "    }\n",
       "</style>\n",
       "<table border=\"1\" class=\"dataframe\">\n",
       "  <thead>\n",
       "    <tr style=\"text-align: right;\">\n",
       "      <th></th>\n",
       "      <th>REF_ID</th>\n",
       "      <th>REPORT_DATE_RAW</th>\n",
       "      <th>DATETIME</th>\n",
       "      <th>COUNTY</th>\n",
       "      <th>DECISION</th>\n",
       "      <th>RESPONSE_TIME</th>\n",
       "      <th>ASM_MALTREATMENT</th>\n",
       "      <th>ASSESSMENT_DECISION</th>\n",
       "      <th>SUBSTANTIATED</th>\n",
       "      <th>PARTICIPANT</th>\n",
       "      <th>AGE</th>\n",
       "    </tr>\n",
       "  </thead>\n",
       "  <tbody>\n",
       "    <tr>\n",
       "      <th>0</th>\n",
       "      <td>1406424407</td>\n",
       "      <td>1/1/19 0:32</td>\n",
       "      <td>0019-01-01 00:32:00.000</td>\n",
       "      <td>Kosciusko</td>\n",
       "      <td>Screen In</td>\n",
       "      <td>5 days</td>\n",
       "      <td>neglect</td>\n",
       "      <td>withdrawn</td>\n",
       "      <td>0</td>\n",
       "      <td>Victim</td>\n",
       "      <td>11</td>\n",
       "    </tr>\n",
       "    <tr>\n",
       "      <th>1</th>\n",
       "      <td>490485216</td>\n",
       "      <td>1/1/19 7:16</td>\n",
       "      <td>0019-01-01 07:16:00.000</td>\n",
       "      <td>Lake</td>\n",
       "      <td>Screen In</td>\n",
       "      <td>24 hours</td>\n",
       "      <td>neglect,physical abuse</td>\n",
       "      <td>accepted</td>\n",
       "      <td>1</td>\n",
       "      <td>Victim</td>\n",
       "      <td>0</td>\n",
       "    </tr>\n",
       "    <tr>\n",
       "      <th>2</th>\n",
       "      <td>1773822066</td>\n",
       "      <td>1/1/19 11:34</td>\n",
       "      <td>0019-01-01 11:34:00.000</td>\n",
       "      <td>Marion</td>\n",
       "      <td>Screen In</td>\n",
       "      <td>24 hours</td>\n",
       "      <td>neglect</td>\n",
       "      <td>accepted</td>\n",
       "      <td>0</td>\n",
       "      <td>Victim</td>\n",
       "      <td>9</td>\n",
       "    </tr>\n",
       "    <tr>\n",
       "      <th>3</th>\n",
       "      <td>9124632</td>\n",
       "      <td>1/1/19 13:22</td>\n",
       "      <td>0019-01-01 13:22:00.000</td>\n",
       "      <td>Lake</td>\n",
       "      <td>Screen In</td>\n",
       "      <td>24 hours</td>\n",
       "      <td>neglect</td>\n",
       "      <td>accepted</td>\n",
       "      <td>0</td>\n",
       "      <td>Victim</td>\n",
       "      <td>5</td>\n",
       "    </tr>\n",
       "    <tr>\n",
       "      <th>4</th>\n",
       "      <td>2067805478</td>\n",
       "      <td>1/1/19 18:41</td>\n",
       "      <td>0019-01-01 18:41:00.000</td>\n",
       "      <td>Ripley</td>\n",
       "      <td>Screen In</td>\n",
       "      <td>24 hours</td>\n",
       "      <td>neglect,physical abuse</td>\n",
       "      <td>accepted</td>\n",
       "      <td>0</td>\n",
       "      <td>Victim</td>\n",
       "      <td>4</td>\n",
       "    </tr>\n",
       "  </tbody>\n",
       "</table>\n",
       "</div>"
      ],
      "text/plain": [
       "       REF_ID REPORT_DATE_RAW                 DATETIME     COUNTY   DECISION  \\\n",
       "0  1406424407     1/1/19 0:32  0019-01-01 00:32:00.000  Kosciusko  Screen In   \n",
       "1   490485216     1/1/19 7:16  0019-01-01 07:16:00.000       Lake  Screen In   \n",
       "2  1773822066    1/1/19 11:34  0019-01-01 11:34:00.000     Marion  Screen In   \n",
       "3     9124632    1/1/19 13:22  0019-01-01 13:22:00.000       Lake  Screen In   \n",
       "4  2067805478    1/1/19 18:41  0019-01-01 18:41:00.000     Ripley  Screen In   \n",
       "\n",
       "  RESPONSE_TIME        ASM_MALTREATMENT ASSESSMENT_DECISION  SUBSTANTIATED  \\\n",
       "0        5 days                 neglect           withdrawn              0   \n",
       "1      24 hours  neglect,physical abuse            accepted              1   \n",
       "2      24 hours                 neglect            accepted              0   \n",
       "3      24 hours                 neglect            accepted              0   \n",
       "4      24 hours  neglect,physical abuse            accepted              0   \n",
       "\n",
       "  PARTICIPANT  AGE  \n",
       "0      Victim   11  \n",
       "1      Victim    0  \n",
       "2      Victim    9  \n",
       "3      Victim    5  \n",
       "4      Victim    4  "
      ]
     },
     "execution_count": 3,
     "metadata": {},
     "output_type": "execute_result"
    }
   ],
   "source": [
    "df.head()"
   ]
  },
  {
   "cell_type": "code",
   "execution_count": 4,
   "metadata": {},
   "outputs": [
    {
     "name": "stdout",
     "output_type": "stream",
     "text": [
      "<class 'pandas.core.frame.DataFrame'>\n",
      "RangeIndex: 402070 entries, 0 to 402069\n",
      "Data columns (total 11 columns):\n",
      " #   Column               Non-Null Count   Dtype \n",
      "---  ------               --------------   ----- \n",
      " 0   REF_ID               402070 non-null  int64 \n",
      " 1   REPORT_DATE_RAW      402070 non-null  object\n",
      " 2   DATETIME             402070 non-null  object\n",
      " 3   COUNTY               402070 non-null  object\n",
      " 4   DECISION             402070 non-null  object\n",
      " 5   RESPONSE_TIME        402070 non-null  object\n",
      " 6   ASM_MALTREATMENT     382837 non-null  object\n",
      " 7   ASSESSMENT_DECISION  402070 non-null  object\n",
      " 8   SUBSTANTIATED        402070 non-null  int64 \n",
      " 9   PARTICIPANT          402070 non-null  object\n",
      " 10  AGE                  402070 non-null  int64 \n",
      "dtypes: int64(3), object(8)\n",
      "memory usage: 33.7+ MB\n"
     ]
    }
   ],
   "source": [
    "df.info()"
   ]
  },
  {
   "cell_type": "code",
   "execution_count": 5,
   "metadata": {
    "scrolled": true
   },
   "outputs": [
    {
     "data": {
      "text/html": [
       "<div>\n",
       "<style scoped>\n",
       "    .dataframe tbody tr th:only-of-type {\n",
       "        vertical-align: middle;\n",
       "    }\n",
       "\n",
       "    .dataframe tbody tr th {\n",
       "        vertical-align: top;\n",
       "    }\n",
       "\n",
       "    .dataframe thead th {\n",
       "        text-align: right;\n",
       "    }\n",
       "</style>\n",
       "<table border=\"1\" class=\"dataframe\">\n",
       "  <thead>\n",
       "    <tr style=\"text-align: right;\">\n",
       "      <th></th>\n",
       "      <th>REF_ID</th>\n",
       "      <th>SUBSTANTIATED</th>\n",
       "      <th>AGE</th>\n",
       "    </tr>\n",
       "  </thead>\n",
       "  <tbody>\n",
       "    <tr>\n",
       "      <th>count</th>\n",
       "      <td>4.020700e+05</td>\n",
       "      <td>402070.000000</td>\n",
       "      <td>402070.000000</td>\n",
       "    </tr>\n",
       "    <tr>\n",
       "      <th>mean</th>\n",
       "      <td>1.074053e+09</td>\n",
       "      <td>0.134509</td>\n",
       "      <td>6.854249</td>\n",
       "    </tr>\n",
       "    <tr>\n",
       "      <th>std</th>\n",
       "      <td>6.200160e+08</td>\n",
       "      <td>0.341199</td>\n",
       "      <td>5.471858</td>\n",
       "    </tr>\n",
       "    <tr>\n",
       "      <th>min</th>\n",
       "      <td>8.637000e+03</td>\n",
       "      <td>0.000000</td>\n",
       "      <td>0.000000</td>\n",
       "    </tr>\n",
       "    <tr>\n",
       "      <th>25%</th>\n",
       "      <td>5.373301e+08</td>\n",
       "      <td>0.000000</td>\n",
       "      <td>1.000000</td>\n",
       "    </tr>\n",
       "    <tr>\n",
       "      <th>50%</th>\n",
       "      <td>1.074143e+09</td>\n",
       "      <td>0.000000</td>\n",
       "      <td>7.000000</td>\n",
       "    </tr>\n",
       "    <tr>\n",
       "      <th>75%</th>\n",
       "      <td>1.611062e+09</td>\n",
       "      <td>0.000000</td>\n",
       "      <td>12.000000</td>\n",
       "    </tr>\n",
       "    <tr>\n",
       "      <th>max</th>\n",
       "      <td>2.147483e+09</td>\n",
       "      <td>1.000000</td>\n",
       "      <td>49.000000</td>\n",
       "    </tr>\n",
       "  </tbody>\n",
       "</table>\n",
       "</div>"
      ],
      "text/plain": [
       "             REF_ID  SUBSTANTIATED            AGE\n",
       "count  4.020700e+05  402070.000000  402070.000000\n",
       "mean   1.074053e+09       0.134509       6.854249\n",
       "std    6.200160e+08       0.341199       5.471858\n",
       "min    8.637000e+03       0.000000       0.000000\n",
       "25%    5.373301e+08       0.000000       1.000000\n",
       "50%    1.074143e+09       0.000000       7.000000\n",
       "75%    1.611062e+09       0.000000      12.000000\n",
       "max    2.147483e+09       1.000000      49.000000"
      ]
     },
     "execution_count": 5,
     "metadata": {},
     "output_type": "execute_result"
    }
   ],
   "source": [
    "df.describe()"
   ]
  },
  {
   "cell_type": "code",
   "execution_count": 6,
   "metadata": {},
   "outputs": [
    {
     "data": {
      "text/plain": [
       "Index(['REF_ID', 'REPORT_DATE_RAW', 'DATETIME', 'COUNTY', 'DECISION',\n",
       "       'RESPONSE_TIME', 'ASM_MALTREATMENT', 'ASSESSMENT_DECISION',\n",
       "       'SUBSTANTIATED', 'PARTICIPANT', 'AGE'],\n",
       "      dtype='object')"
      ]
     },
     "execution_count": 6,
     "metadata": {},
     "output_type": "execute_result"
    }
   ],
   "source": [
    "df.columns"
   ]
  },
  {
   "cell_type": "code",
   "execution_count": 7,
   "metadata": {
    "scrolled": false
   },
   "outputs": [
    {
     "data": {
      "text/plain": [
       "<matplotlib.axes._subplots.AxesSubplot at 0x7f90cef10bb0>"
      ]
     },
     "execution_count": 7,
     "metadata": {},
     "output_type": "execute_result"
    },
    {
     "data": {
      "image/png": "[encoded data removed]",
      "text/plain": [
       "<Figure size 1080x432 with 1 Axes>"
      ]
     },
     "metadata": {
      "needs_background": "light"
     },
     "output_type": "display_data"
    }
   ],
   "source": [
    "plt.figure(figsize=(15,6))\n",
    "sns.countplot(x='ASSESSMENT_DECISION', hue= 'SUBSTANTIATED', data=df)"
   ]
  },
  {
   "cell_type": "code",
   "execution_count": 8,
   "metadata": {},
   "outputs": [
    {
     "data": {
      "text/plain": [
       "accepted                 0.955513\n",
       "withdrawn                0.031604\n",
       "active                   0.009200\n",
       "supervisor_review        0.003368\n",
       "central_office_review    0.000296\n",
       "reopened                 0.000020\n",
       "Name: ASSESSMENT_DECISION, dtype: float64"
      ]
     },
     "execution_count": 8,
     "metadata": {},
     "output_type": "execute_result"
    }
   ],
   "source": [
    "df['ASSESSMENT_DECISION'].value_counts(normalize=True)"
   ]
  },
  {
   "cell_type": "code",
   "execution_count": 9,
   "metadata": {},
   "outputs": [
    {
     "data": {
      "text/plain": [
       "0    0.865491\n",
       "1    0.134509\n",
       "Name: SUBSTANTIATED, dtype: float64"
      ]
     },
     "execution_count": 9,
     "metadata": {},
     "output_type": "execute_result"
    }
   ],
   "source": [
    "df['SUBSTANTIATED'].value_counts(normalize=True)"
   ]
  },
  {
   "cell_type": "code",
   "execution_count": 10,
   "metadata": {},
   "outputs": [
    {
     "name": "stdout",
     "output_type": "stream",
     "text": [
      "Percentage of cases accepted and substantiated: 13%\n"
     ]
    }
   ],
   "source": [
    "pct_accep_sub=len(df[(df['ASSESSMENT_DECISION']=='accepted') &\n",
    "       (df['SUBSTANTIATED']==1)])/len(df['ASSESSMENT_DECISION'])\n",
    "print('Percentage of cases accepted and substantiated: {0:.0%}'.format(pct_accep_sub))"
   ]
  },
  {
   "cell_type": "code",
   "execution_count": 11,
   "metadata": {},
   "outputs": [
    {
     "name": "stdout",
     "output_type": "stream",
     "text": [
      "Percentage of cases withdrawn and substantiated: 0%\n"
     ]
    }
   ],
   "source": [
    "pct_accep_sub=len(df[(df['ASSESSMENT_DECISION']=='withdrawn') &\n",
    "       (df['SUBSTANTIATED']==1)])/len(df['ASSESSMENT_DECISION'])\n",
    "print('Percentage of cases withdrawn and substantiated: {0:.0%}'.format(pct_accep_sub))"
   ]
  },
  {
   "cell_type": "code",
   "execution_count": 12,
   "metadata": {},
   "outputs": [],
   "source": [
    "df['ASSESSMENT_DECISION'] = df['ASSESSMENT_DECISION'].replace(dict.fromkeys(['central_office_review',\n",
    "                                                                             'supervisor_review', 'active',\n",
    "                                                                            'reopened'], 'withdrawn'))"
   ]
  },
  {
   "cell_type": "code",
   "execution_count": 13,
   "metadata": {},
   "outputs": [
    {
     "data": {
      "text/plain": [
       "<matplotlib.axes._subplots.AxesSubplot at 0x7f90c9f6d670>"
      ]
     },
     "execution_count": 13,
     "metadata": {},
     "output_type": "execute_result"
    },
    {
     "data": {
      "image/png": "[encoded data removed]",
      "text/plain": [
       "<Figure size 720x432 with 1 Axes>"
      ]
     },
     "metadata": {
      "needs_background": "light"
     },
     "output_type": "display_data"
    }
   ],
   "source": [
    "plt.figure(figsize=(10,6))\n",
    "sns.countplot(x='ASSESSMENT_DECISION', hue= 'SUBSTANTIATED', data=df)"
   ]
  },
  {
   "cell_type": "code",
   "execution_count": 14,
   "metadata": {
    "scrolled": true
   },
   "outputs": [
    {
     "data": {
      "text/plain": [
       "array([[<matplotlib.axes._subplots.AxesSubplot object at 0x7f90b9ddec70>]],\n",
       "      dtype=object)"
      ]
     },
     "execution_count": 14,
     "metadata": {},
     "output_type": "execute_result"
    },
    {
     "data": {
      "image/png": "[encoded data removed]",
      "text/plain": [
       "<Figure size 432x288 with 1 Axes>"
      ]
     },
     "metadata": {
      "needs_background": "light"
     },
     "output_type": "display_data"
    }
   ],
   "source": [
    "df.hist(['AGE'])"
   ]
  },
  {
   "cell_type": "code",
   "execution_count": 15,
   "metadata": {},
   "outputs": [],
   "source": [
    "df.drop(df[df['AGE'] > 18].index, inplace = True)"
   ]
  },
  {
   "cell_type": "code",
   "execution_count": 16,
   "metadata": {
    "scrolled": true
   },
   "outputs": [
    {
     "data": {
      "text/plain": [
       "array([[<matplotlib.axes._subplots.AxesSubplot object at 0x7f90b9b8cc70>]],\n",
       "      dtype=object)"
      ]
     },
     "execution_count": 16,
     "metadata": {},
     "output_type": "execute_result"
    },
    {
     "data": {
      "image/png": "[encoded data removed]",
      "text/plain": [
       "<Figure size 432x288 with 1 Axes>"
      ]
     },
     "metadata": {
      "needs_background": "light"
     },
     "output_type": "display_data"
    }
   ],
   "source": [
    "df.hist(['AGE'])"
   ]
  },
  {
   "cell_type": "code",
   "execution_count": 17,
   "metadata": {},
   "outputs": [],
   "source": [
    "df['CHILD_TYPE'] = ['Small child' if x <= 9 else 'Big child' for x in df['AGE']]"
   ]
  },
  {
   "cell_type": "code",
   "execution_count": 18,
   "metadata": {},
   "outputs": [
    {
     "data": {
      "text/plain": [
       "Small child    0.652364\n",
       "Big child      0.347636\n",
       "Name: CHILD_TYPE, dtype: float64"
      ]
     },
     "execution_count": 18,
     "metadata": {},
     "output_type": "execute_result"
    }
   ],
   "source": [
    "df[\"CHILD_TYPE\"].value_counts(normalize=True)"
   ]
  },
  {
   "cell_type": "code",
   "execution_count": 19,
   "metadata": {},
   "outputs": [
    {
     "data": {
      "text/html": [
       "<div>\n",
       "<style scoped>\n",
       "    .dataframe tbody tr th:only-of-type {\n",
       "        vertical-align: middle;\n",
       "    }\n",
       "\n",
       "    .dataframe tbody tr th {\n",
       "        vertical-align: top;\n",
       "    }\n",
       "\n",
       "    .dataframe thead th {\n",
       "        text-align: right;\n",
       "    }\n",
       "</style>\n",
       "<table border=\"1\" class=\"dataframe\">\n",
       "  <thead>\n",
       "    <tr style=\"text-align: right;\">\n",
       "      <th></th>\n",
       "      <th>AGE</th>\n",
       "      <th>AGE_BINS</th>\n",
       "    </tr>\n",
       "  </thead>\n",
       "  <tbody>\n",
       "    <tr>\n",
       "      <th>0</th>\n",
       "      <td>11</td>\n",
       "      <td>9-12</td>\n",
       "    </tr>\n",
       "    <tr>\n",
       "      <th>1</th>\n",
       "      <td>0</td>\n",
       "      <td>infant</td>\n",
       "    </tr>\n",
       "    <tr>\n",
       "      <th>2</th>\n",
       "      <td>9</td>\n",
       "      <td>6-9</td>\n",
       "    </tr>\n",
       "    <tr>\n",
       "      <th>3</th>\n",
       "      <td>5</td>\n",
       "      <td>3-6</td>\n",
       "    </tr>\n",
       "    <tr>\n",
       "      <th>4</th>\n",
       "      <td>4</td>\n",
       "      <td>3-6</td>\n",
       "    </tr>\n",
       "  </tbody>\n",
       "</table>\n",
       "</div>"
      ],
      "text/plain": [
       "   AGE AGE_BINS\n",
       "0   11     9-12\n",
       "1    0   infant\n",
       "2    9      6-9\n",
       "3    5      3-6\n",
       "4    4      3-6"
      ]
     },
     "execution_count": 19,
     "metadata": {},
     "output_type": "execute_result"
    }
   ],
   "source": [
    "df['AGE_BINS'] = pd.cut(x=df['AGE'], bins=[-np.inf, 0, 3, 6, 9, 12, 15, 18],\n",
    "                        labels=['infant', '0-3', '3-6', '6-9', '9-12', '12-15', '15-18'])\n",
    "df[['AGE', 'AGE_BINS']].head()"
   ]
  },
  {
   "cell_type": "code",
   "execution_count": 20,
   "metadata": {
    "scrolled": true
   },
   "outputs": [
    {
     "data": {
      "text/plain": [
       "infant    0.211123\n",
       "6-9       0.152779\n",
       "3-6       0.151565\n",
       "9-12      0.144809\n",
       "0-3       0.136899\n",
       "12-15     0.135871\n",
       "15-18     0.066956\n",
       "Name: AGE_BINS, dtype: float64"
      ]
     },
     "execution_count": 20,
     "metadata": {},
     "output_type": "execute_result"
    }
   ],
   "source": [
    "df['AGE_BINS'].value_counts(normalize=True)"
   ]
  },
  {
   "cell_type": "code",
   "execution_count": 21,
   "metadata": {},
   "outputs": [
    {
     "data": {
      "text/plain": [
       "<matplotlib.axes._subplots.AxesSubplot at 0x7f90b95c6910>"
      ]
     },
     "execution_count": 21,
     "metadata": {},
     "output_type": "execute_result"
    },
    {
     "data": {
      "image/png": "[encoded data removed]",
      "text/plain": [
       "<Figure size 720x432 with 1 Axes>"
      ]
     },
     "metadata": {
      "needs_background": "light"
     },
     "output_type": "display_data"
    }
   ],
   "source": [
    "plt.figure(figsize=(10,6))\n",
    "sns.countplot(x='CHILD_TYPE', hue= 'ASSESSMENT_DECISION', data=df)"
   ]
  },
  {
   "cell_type": "code",
   "execution_count": 22,
   "metadata": {},
   "outputs": [
    {
     "name": "stdout",
     "output_type": "stream",
     "text": [
      "Percentage of small child cases accepted: 62%\n"
     ]
    }
   ],
   "source": [
    "pct_accep_small_child=len(df[(df['CHILD_TYPE']=='Small child') &\n",
    "       (df['ASSESSMENT_DECISION']=='accepted')])/len(df['CHILD_TYPE'])\n",
    "print('Percentage of small child cases accepted: {0:.0%}'.format(pct_accep_small_child))"
   ]
  },
  {
   "cell_type": "code",
   "execution_count": 23,
   "metadata": {},
   "outputs": [
    {
     "name": "stdout",
     "output_type": "stream",
     "text": [
      "Percentage of big child cases accepted: 33%\n"
     ]
    }
   ],
   "source": [
    "pct_accep_big_child=len(df[(df['CHILD_TYPE']=='Big child') &\n",
    "       (df['ASSESSMENT_DECISION']=='accepted')])/len(df['CHILD_TYPE'])\n",
    "print('Percentage of big child cases accepted: {0:.0%}'.format(pct_accep_big_child))"
   ]
  },
  {
   "cell_type": "code",
   "execution_count": 24,
   "metadata": {},
   "outputs": [
    {
     "data": {
      "text/plain": [
       "<matplotlib.axes._subplots.AxesSubplot at 0x7f90ba3b5bb0>"
      ]
     },
     "execution_count": 24,
     "metadata": {},
     "output_type": "execute_result"
    },
    {
     "data": {
      "image/png": "[encoded data removed]",
      "text/plain": [
       "<Figure size 720x432 with 1 Axes>"
      ]
     },
     "metadata": {
      "needs_background": "light"
     },
     "output_type": "display_data"
    }
   ],
   "source": [
    "plt.figure(figsize=(10,6))\n",
    "sns.countplot(x='CHILD_TYPE', hue= 'SUBSTANTIATED', data=df)"
   ]
  },
  {
   "cell_type": "code",
   "execution_count": 25,
   "metadata": {},
   "outputs": [
    {
     "name": "stdout",
     "output_type": "stream",
     "text": [
      "Percentage of small child cases substantiated: 10%\n"
     ]
    }
   ],
   "source": [
    "pct_sub_small_child=len(df[(df['CHILD_TYPE']=='Small child') &\n",
    "       (df['SUBSTANTIATED']==1)])/len(df['CHILD_TYPE'])\n",
    "print('Percentage of small child cases substantiated: {0:.0%}'.format(pct_sub_small_child))"
   ]
  },
  {
   "cell_type": "code",
   "execution_count": 26,
   "metadata": {},
   "outputs": [
    {
     "name": "stdout",
     "output_type": "stream",
     "text": [
      "Percentage of big child cases substantiated: 4%\n"
     ]
    }
   ],
   "source": [
    "pct_sub_big_child=len(df[(df['CHILD_TYPE']=='Big child') &\n",
    "       (df['SUBSTANTIATED']==1)])/len(df['CHILD_TYPE'])\n",
    "print('Percentage of big child cases substantiated: {0:.0%}'.format(pct_sub_big_child))"
   ]
  },
  {
   "cell_type": "code",
   "execution_count": 27,
   "metadata": {},
   "outputs": [
    {
     "data": {
      "text/plain": [
       "<matplotlib.axes._subplots.AxesSubplot at 0x7f90bae0c9a0>"
      ]
     },
     "execution_count": 27,
     "metadata": {},
     "output_type": "execute_result"
    },
    {
     "data": {
      "image/png": "[encoded data removed]",
      "text/plain": [
       "<Figure size 720x432 with 1 Axes>"
      ]
     },
     "metadata": {
      "needs_background": "light"
     },
     "output_type": "display_data"
    }
   ],
   "source": [
    "plt.figure(figsize=(10,6))\n",
    "sns.countplot(x='AGE_BINS', hue= 'ASSESSMENT_DECISION', data=df)"
   ]
  },
  {
   "cell_type": "code",
   "execution_count": 28,
   "metadata": {
    "scrolled": true
   },
   "outputs": [
    {
     "data": {
      "text/plain": [
       "<matplotlib.axes._subplots.AxesSubplot at 0x7f90cbc222b0>"
      ]
     },
     "execution_count": 28,
     "metadata": {},
     "output_type": "execute_result"
    },
    {
     "data": {
      "image/png": "[encoded data removed]",
      "text/plain": [
       "<Figure size 720x432 with 1 Axes>"
      ]
     },
     "metadata": {
      "needs_background": "light"
     },
     "output_type": "display_data"
    }
   ],
   "source": [
    "plt.figure(figsize=(10,6))\n",
    "sns.countplot(x='AGE_BINS', hue= 'SUBSTANTIATED', data=df)"
   ]
  },
  {
   "cell_type": "code",
   "execution_count": 29,
   "metadata": {},
   "outputs": [
    {
     "data": {
      "text/plain": [
       "<matplotlib.axes._subplots.AxesSubplot at 0x7f90bc1b1eb0>"
      ]
     },
     "execution_count": 29,
     "metadata": {},
     "output_type": "execute_result"
    },
    {
     "data": {
      "image/png": "[encoded data removed]",
      "text/plain": [
       "<Figure size 432x288 with 1 Axes>"
      ]
     },
     "metadata": {
      "needs_background": "light"
     },
     "output_type": "display_data"
    }
   ],
   "source": [
    "sns.countplot(x='SUBSTANTIATED',data=df, hue='AGE_BINS')"
   ]
  },
  {
   "cell_type": "code",
   "execution_count": 30,
   "metadata": {},
   "outputs": [],
   "source": [
    "pct_inf_sub=len(df[(df['AGE_BINS']=='infant') & (df['SUBSTANTIATED']==1)])/len(df['AGE_BINS'])\n",
    "pct_03_sub=len(df[(df['AGE_BINS']=='0-3') & (df['SUBSTANTIATED']==1)])/len(df['AGE_BINS'])\n",
    "pct_36_sub=len(df[(df['AGE_BINS']=='3-6') & (df['SUBSTANTIATED']==1)])/len(df['AGE_BINS'])\n",
    "pct_69_sub=len(df[(df['AGE_BINS']=='6-9') & (df['SUBSTANTIATED']==1)])/len(df['AGE_BINS'])\n",
    "pct_912_sub=len(df[(df['AGE_BINS']=='9-12') & (df['SUBSTANTIATED']==1)])/len(df['AGE_BINS'])\n",
    "pct_1215_sub=len(df[(df['AGE_BINS']=='12-15') & (df['SUBSTANTIATED']==1)])/len(df['AGE_BINS'])\n",
    "pct_1518_sub=len(df[(df['AGE_BINS']=='15-18') & (df['SUBSTANTIATED']==1)])/len(df['AGE_BINS'])"
   ]
  },
  {
   "cell_type": "code",
   "execution_count": 31,
   "metadata": {},
   "outputs": [
    {
     "name": "stdout",
     "output_type": "stream",
     "text": [
      "Percentage of infant cases substantiated: 4%\n",
      "Percentage of 0-3 year old cases substantiated: 2%\n",
      "Percentage of 3-6 year old cases substantiated: 2%\n",
      "Percentage of 6-9 year old cases substantiated: 2%\n",
      "Percentage of 9-12 year old cases substantiated: 2%\n",
      "Percentage of 12-15 year old cases substantiated: 2%\n",
      "Percentage of 15-18 year old cases substantiated: 1%\n"
     ]
    }
   ],
   "source": [
    "print('Percentage of infant cases substantiated: {0:.0%}'.format(pct_inf_sub))\n",
    "print('Percentage of 0-3 year old cases substantiated: {0:.0%}'.format(pct_03_sub))\n",
    "print('Percentage of 3-6 year old cases substantiated: {0:.0%}'.format(pct_36_sub))\n",
    "print('Percentage of 6-9 year old cases substantiated: {0:.0%}'.format(pct_69_sub))\n",
    "print('Percentage of 9-12 year old cases substantiated: {0:.0%}'.format(pct_912_sub))\n",
    "print('Percentage of 12-15 year old cases substantiated: {0:.0%}'.format(pct_1215_sub))\n",
    "print('Percentage of 15-18 year old cases substantiated: {0:.0%}'.format(pct_1518_sub))"
   ]
  },
  {
   "cell_type": "code",
   "execution_count": 32,
   "metadata": {},
   "outputs": [
    {
     "data": {
      "text/plain": [
       "neglect                                                         0.666127\n",
       "neglect,physical abuse                                          0.157680\n",
       "physical abuse                                                  0.054645\n",
       "sexual abuse                                                    0.048806\n",
       "neglect,sexual abuse                                            0.044643\n",
       "neglect,physical abuse,sexual abuse                             0.020770\n",
       "physical abuse,sexual abuse                                     0.004441\n",
       "human/sexual trafficking,neglect,sexual abuse                   0.001191\n",
       "human/sexual trafficking,sexual abuse                           0.000643\n",
       "human/sexual trafficking,neglect,physical abuse,sexual abuse    0.000630\n",
       "human/sexual trafficking,neglect                                0.000212\n",
       "human/sexual trafficking                                        0.000089\n",
       "human/sexual trafficking,physical abuse,sexual abuse            0.000065\n",
       "human/sexual trafficking,neglect,physical abuse                 0.000047\n",
       "human/sexual trafficking,physical abuse                         0.000013\n",
       "Name: ASM_MALTREATMENT, dtype: float64"
      ]
     },
     "execution_count": 32,
     "metadata": {},
     "output_type": "execute_result"
    }
   ],
   "source": [
    "df['ASM_MALTREATMENT'].value_counts(normalize=True)"
   ]
  },
  {
   "cell_type": "code",
   "execution_count": 33,
   "metadata": {},
   "outputs": [],
   "source": [
    "df['ASM_MALTREATMENT'] = df['ASM_MALTREATMENT'].replace(dict.fromkeys(['neglect', 'neglect, physical abuse',\n",
    "                                                                       'physical abuse', 'sexual abuse',\n",
    "                                                                       'neglect,sexual abuse',\n",
    "                                                                       'neglect,physical abuse,sexual abuse',\n",
    "                                                                      'physical abuse,sexual abuse',\n",
    "                                                                      'neglect,physical abuse'],\n",
    "                                                                      'Neglect/Physical/Sexual Abuse'))"
   ]
  },
  {
   "cell_type": "code",
   "execution_count": 34,
   "metadata": {},
   "outputs": [],
   "source": [
    "df['ASM_MALTREATMENT'] = df['ASM_MALTREATMENT'].replace(dict.fromkeys(['human/sexual trafficking,neglect,sexual abuse',\n",
    "                                                                      'human/sexual trafficking,sexual abuse',\n",
    "                                                                      'human/sexual trafficking,neglect,physical abuse,sexual abuse',\n",
    "                                                                      'human/sexual trafficking,neglect',\n",
    "                                                                      'human/sexual trafficking',\n",
    "                                                                      'human/sexual trafficking,physical abuse,sexual abuse',\n",
    "                                                                      'human/sexual trafficking,neglect,physical abuse',\n",
    "                                                                       'human/sexual trafficking,physical abuse'],\n",
    "                                                                      'Human/Sexual Trafficking'))"
   ]
  },
  {
   "cell_type": "code",
   "execution_count": 35,
   "metadata": {},
   "outputs": [
    {
     "data": {
      "text/plain": [
       "Neglect/Physical/Sexual Abuse    0.997111\n",
       "Human/Sexual Trafficking         0.002889\n",
       "Name: ASM_MALTREATMENT, dtype: float64"
      ]
     },
     "execution_count": 35,
     "metadata": {},
     "output_type": "execute_result"
    }
   ],
   "source": [
    "df['ASM_MALTREATMENT'].value_counts(normalize=True)"
   ]
  },
  {
   "cell_type": "code",
   "execution_count": 36,
   "metadata": {},
   "outputs": [
    {
     "data": {
      "text/html": [
       "<div>\n",
       "<style scoped>\n",
       "    .dataframe tbody tr th:only-of-type {\n",
       "        vertical-align: middle;\n",
       "    }\n",
       "\n",
       "    .dataframe tbody tr th {\n",
       "        vertical-align: top;\n",
       "    }\n",
       "\n",
       "    .dataframe thead th {\n",
       "        text-align: right;\n",
       "    }\n",
       "</style>\n",
       "<table border=\"1\" class=\"dataframe\">\n",
       "  <thead>\n",
       "    <tr style=\"text-align: right;\">\n",
       "      <th></th>\n",
       "      <th>REF_ID</th>\n",
       "      <th>REPORT_DATE_RAW</th>\n",
       "      <th>DATETIME</th>\n",
       "      <th>COUNTY</th>\n",
       "      <th>DECISION</th>\n",
       "      <th>RESPONSE_TIME</th>\n",
       "      <th>ASM_MALTREATMENT</th>\n",
       "      <th>SUBSTANTIATED</th>\n",
       "      <th>PARTICIPANT</th>\n",
       "      <th>AGE</th>\n",
       "      <th>CHILD_TYPE</th>\n",
       "      <th>AGE_BINS</th>\n",
       "    </tr>\n",
       "    <tr>\n",
       "      <th>ASSESSMENT_DECISION</th>\n",
       "      <th></th>\n",
       "      <th></th>\n",
       "      <th></th>\n",
       "      <th></th>\n",
       "      <th></th>\n",
       "      <th></th>\n",
       "      <th></th>\n",
       "      <th></th>\n",
       "      <th></th>\n",
       "      <th></th>\n",
       "      <th></th>\n",
       "      <th></th>\n",
       "    </tr>\n",
       "  </thead>\n",
       "  <tbody>\n",
       "    <tr>\n",
       "      <th>accepted</th>\n",
       "      <td>384133</td>\n",
       "      <td>384133</td>\n",
       "      <td>384133</td>\n",
       "      <td>384133</td>\n",
       "      <td>384133</td>\n",
       "      <td>384133</td>\n",
       "      <td>370856</td>\n",
       "      <td>384133</td>\n",
       "      <td>384133</td>\n",
       "      <td>384133</td>\n",
       "      <td>384133</td>\n",
       "      <td>384133</td>\n",
       "    </tr>\n",
       "    <tr>\n",
       "      <th>withdrawn</th>\n",
       "      <td>17880</td>\n",
       "      <td>17880</td>\n",
       "      <td>17880</td>\n",
       "      <td>17880</td>\n",
       "      <td>17880</td>\n",
       "      <td>17880</td>\n",
       "      <td>11963</td>\n",
       "      <td>17880</td>\n",
       "      <td>17880</td>\n",
       "      <td>17880</td>\n",
       "      <td>17880</td>\n",
       "      <td>17880</td>\n",
       "    </tr>\n",
       "  </tbody>\n",
       "</table>\n",
       "</div>"
      ],
      "text/plain": [
       "                     REF_ID  REPORT_DATE_RAW  DATETIME  COUNTY  DECISION  \\\n",
       "ASSESSMENT_DECISION                                                        \n",
       "accepted             384133           384133    384133  384133    384133   \n",
       "withdrawn             17880            17880     17880   17880     17880   \n",
       "\n",
       "                     RESPONSE_TIME  ASM_MALTREATMENT  SUBSTANTIATED  \\\n",
       "ASSESSMENT_DECISION                                                   \n",
       "accepted                    384133            370856         384133   \n",
       "withdrawn                    17880             11963          17880   \n",
       "\n",
       "                     PARTICIPANT     AGE  CHILD_TYPE  AGE_BINS  \n",
       "ASSESSMENT_DECISION                                             \n",
       "accepted                  384133  384133      384133    384133  \n",
       "withdrawn                  17880   17880       17880     17880  "
      ]
     },
     "execution_count": 36,
     "metadata": {},
     "output_type": "execute_result"
    }
   ],
   "source": [
    "df.groupby(df['ASSESSMENT_DECISION']).count()"
   ]
  },
  {
   "cell_type": "code",
   "execution_count": 37,
   "metadata": {},
   "outputs": [
    {
     "data": {
      "text/html": [
       "<div>\n",
       "<style scoped>\n",
       "    .dataframe tbody tr th:only-of-type {\n",
       "        vertical-align: middle;\n",
       "    }\n",
       "\n",
       "    .dataframe tbody tr th {\n",
       "        vertical-align: top;\n",
       "    }\n",
       "\n",
       "    .dataframe thead th {\n",
       "        text-align: right;\n",
       "    }\n",
       "</style>\n",
       "<table border=\"1\" class=\"dataframe\">\n",
       "  <thead>\n",
       "    <tr style=\"text-align: right;\">\n",
       "      <th></th>\n",
       "      <th>REF_ID</th>\n",
       "      <th>REPORT_DATE_RAW</th>\n",
       "      <th>DATETIME</th>\n",
       "      <th>COUNTY</th>\n",
       "      <th>DECISION</th>\n",
       "      <th>RESPONSE_TIME</th>\n",
       "      <th>ASM_MALTREATMENT</th>\n",
       "      <th>ASSESSMENT_DECISION</th>\n",
       "      <th>PARTICIPANT</th>\n",
       "      <th>AGE</th>\n",
       "      <th>CHILD_TYPE</th>\n",
       "      <th>AGE_BINS</th>\n",
       "    </tr>\n",
       "    <tr>\n",
       "      <th>SUBSTANTIATED</th>\n",
       "      <th></th>\n",
       "      <th></th>\n",
       "      <th></th>\n",
       "      <th></th>\n",
       "      <th></th>\n",
       "      <th></th>\n",
       "      <th></th>\n",
       "      <th></th>\n",
       "      <th></th>\n",
       "      <th></th>\n",
       "      <th></th>\n",
       "      <th></th>\n",
       "    </tr>\n",
       "  </thead>\n",
       "  <tbody>\n",
       "    <tr>\n",
       "      <th>0</th>\n",
       "      <td>347938</td>\n",
       "      <td>347938</td>\n",
       "      <td>347938</td>\n",
       "      <td>347938</td>\n",
       "      <td>347938</td>\n",
       "      <td>347938</td>\n",
       "      <td>330778</td>\n",
       "      <td>347938</td>\n",
       "      <td>347938</td>\n",
       "      <td>347938</td>\n",
       "      <td>347938</td>\n",
       "      <td>347938</td>\n",
       "    </tr>\n",
       "    <tr>\n",
       "      <th>1</th>\n",
       "      <td>54075</td>\n",
       "      <td>54075</td>\n",
       "      <td>54075</td>\n",
       "      <td>54075</td>\n",
       "      <td>54075</td>\n",
       "      <td>54075</td>\n",
       "      <td>52041</td>\n",
       "      <td>54075</td>\n",
       "      <td>54075</td>\n",
       "      <td>54075</td>\n",
       "      <td>54075</td>\n",
       "      <td>54075</td>\n",
       "    </tr>\n",
       "  </tbody>\n",
       "</table>\n",
       "</div>"
      ],
      "text/plain": [
       "               REF_ID  REPORT_DATE_RAW  DATETIME  COUNTY  DECISION  \\\n",
       "SUBSTANTIATED                                                        \n",
       "0              347938           347938    347938  347938    347938   \n",
       "1               54075            54075     54075   54075     54075   \n",
       "\n",
       "               RESPONSE_TIME  ASM_MALTREATMENT  ASSESSMENT_DECISION  \\\n",
       "SUBSTANTIATED                                                         \n",
       "0                     347938            330778               347938   \n",
       "1                      54075             52041                54075   \n",
       "\n",
       "               PARTICIPANT     AGE  CHILD_TYPE  AGE_BINS  \n",
       "SUBSTANTIATED                                             \n",
       "0                   347938  347938      347938    347938  \n",
       "1                    54075   54075       54075     54075  "
      ]
     },
     "execution_count": 37,
     "metadata": {},
     "output_type": "execute_result"
    }
   ],
   "source": [
    "df.groupby(df['SUBSTANTIATED']).count()"
   ]
  },
  {
   "cell_type": "code",
   "execution_count": 38,
   "metadata": {},
   "outputs": [
    {
     "data": {
      "text/plain": [
       "93"
      ]
     },
     "execution_count": 38,
     "metadata": {},
     "output_type": "execute_result"
    }
   ],
   "source": [
    "df['COUNTY'].nunique()"
   ]
  },
  {
   "cell_type": "code",
   "execution_count": 39,
   "metadata": {},
   "outputs": [
    {
     "data": {
      "text/plain": [
       "array(['Kosciusko', 'Lake', 'Marion', 'Ripley', 'Grant', 'Laporte',\n",
       "       'Bartholomew', 'Elkhart', 'Tippecanoe', 'Delaware', 'Hendricks',\n",
       "       'Scott', 'Allen', 'Henry', 'Johnson', 'Adams', 'Miami',\n",
       "       'Washington', 'Noble', 'Posey', 'Saint Joseph', 'Pulaski',\n",
       "       'Vanderburgh', 'Howard', 'Madison', 'Greene', 'Marshall', 'Floyd',\n",
       "       'Boone', 'Wayne', 'Tipton', 'Cass', 'Morgan', 'Hancock', 'Starke',\n",
       "       'Harrison', 'Perry', 'Monroe', 'Dearborn', 'Clark', 'Vigo',\n",
       "       'Whitley', 'Clay', 'Sullivan', 'Montgomery', 'Institutional Unit',\n",
       "       'Brown', 'Owen', 'Crawford', 'Porter', 'Putnam', 'Dubois', 'Union',\n",
       "       'Knox', 'Jackson', 'Wells', 'Randolph', 'Orange', 'Spencer',\n",
       "       'Warrick', 'Hamilton', 'Fountain', 'Carroll', 'Steuben',\n",
       "       'Switzerland', 'Pike', 'Shelby', 'Fulton', 'Gibson', 'Clinton',\n",
       "       'Lawrence', 'Wabash', 'Fayette', 'Parke', 'Jennings', 'Martin',\n",
       "       'Huntington', 'Dekalb', 'LaGrange', 'Decatur', 'White',\n",
       "       'Jefferson', 'Daviess', 'Rush', 'Jay', 'Blackford', 'Franklin',\n",
       "       'Newton', 'Benton', 'Vermillion', 'Jasper', 'Warren', 'Ohio'],\n",
       "      dtype=object)"
      ]
     },
     "execution_count": 39,
     "metadata": {},
     "output_type": "execute_result"
    }
   ],
   "source": [
    "df['COUNTY'].unique()"
   ]
  },
  {
   "cell_type": "code",
   "execution_count": 40,
   "metadata": {},
   "outputs": [],
   "source": [
    "df['COUNTY'] = df['COUNTY'].replace(dict.fromkeys(['Lake', 'Porter', 'La Porte', 'Newton', 'Jasper',\n",
    "                                                   'Elkhart', 'Fulton', 'Kosciusko', 'LaGrange', 'Marshall',\n",
    "                                                   'Pulaski', 'St. Joseph', 'Starke', 'Adams', 'Allen',\n",
    "                                                   'DeKalb', 'Huntington', 'Noble', 'Steuben', 'Wabash',\n",
    "                                                   'Wells', 'Whitley', 'Benton', 'Cass', 'Miami', 'White',\n",
    "                                                   'Saint Joseph', 'Laporte', 'Howard', 'Grant', 'Dekalb',\n",
    "                                                   'Carroll', 'Blackford', 'Jay'], 'Northern'))"
   ]
  },
  {
   "cell_type": "code",
   "execution_count": 41,
   "metadata": {},
   "outputs": [],
   "source": [
    "df['COUNTY'] = df['COUNTY'].replace(dict.fromkeys(['Clark', 'Crawford', 'Daviess', 'Dearborn', 'Dubois', \n",
    "                                                   'Floyd', 'Gibson', 'Harrison', 'Jackson', 'Jefferson', \n",
    "                                                   'Knox', 'Lawrence', 'Martin', 'Ohio', 'Orange', 'Perry',\n",
    "                                                   'Pike','Posey', 'Ripley', 'Scott', 'Spencer', 'Switzerland',\n",
    "                                                   'Vanderburgh', 'Warrick', 'Washington', 'Jennings'], 'Southern'))"
   ]
  },
  {
   "cell_type": "code",
   "execution_count": 42,
   "metadata": {},
   "outputs": [],
   "source": [
    "df['COUNTY'] = df['COUNTY'].replace(dict.fromkeys(['Bartholomew', 'Boone', 'Brown', 'Clay', 'Clinton',\n",
    "                                                   'Decatur', 'Delaware', 'Fountain', 'Franklin', 'Greene',\n",
    "                                                   'Hamilton', 'Hancock', 'Hendricks', 'Henry', 'Johnson',\n",
    "                                                   'Madison', 'Marion', 'Monroe', 'Montgomery', 'Morgan',\n",
    "                                                   'Owen', 'Parke', 'Putnam', 'Randolph', 'Rush', 'Shelby',\n",
    "                                                   'Sullivan', 'Tippecanoe', 'Tipton', 'Union', 'Vermillion',\n",
    "                                                   'Vigo', 'Wayne', 'Fayette', 'Warren'], 'Central'))"
   ]
  },
  {
   "cell_type": "code",
   "execution_count": 43,
   "metadata": {},
   "outputs": [
    {
     "data": {
      "text/plain": [
       "Central               0.482514\n",
       "Northern              0.340996\n",
       "Southern              0.163947\n",
       "Institutional Unit    0.012542\n",
       "Name: COUNTY, dtype: float64"
      ]
     },
     "execution_count": 43,
     "metadata": {},
     "output_type": "execute_result"
    }
   ],
   "source": [
    "df['COUNTY'].value_counts(normalize=True)"
   ]
  },
  {
   "cell_type": "code",
   "execution_count": 44,
   "metadata": {},
   "outputs": [
    {
     "data": {
      "text/plain": [
       "<matplotlib.axes._subplots.AxesSubplot at 0x7f90bcbebd60>"
      ]
     },
     "execution_count": 44,
     "metadata": {},
     "output_type": "execute_result"
    },
    {
     "data": {
      "image/png": "[encoded data removed]",
      "text/plain": [
       "<Figure size 432x288 with 1 Axes>"
      ]
     },
     "metadata": {
      "needs_background": "light"
     },
     "output_type": "display_data"
    }
   ],
   "source": [
    "sns.countplot(x='COUNTY', hue='SUBSTANTIATED', data=df)"
   ]
  },
  {
   "cell_type": "code",
   "execution_count": 45,
   "metadata": {},
   "outputs": [
    {
     "data": {
      "text/plain": [
       "<matplotlib.axes._subplots.AxesSubplot at 0x7f90bbb93730>"
      ]
     },
     "execution_count": 45,
     "metadata": {},
     "output_type": "execute_result"
    },
    {
     "data": {
      "image/png": "[encoded data removed]",
      "text/plain": [
       "<Figure size 432x288 with 1 Axes>"
      ]
     },
     "metadata": {
      "needs_background": "light"
     },
     "output_type": "display_data"
    }
   ],
   "source": [
    "sns.countplot(x='COUNTY', hue='ASM_MALTREATMENT', data=df)"
   ]
  },
  {
   "cell_type": "code",
   "execution_count": 46,
   "metadata": {},
   "outputs": [
    {
     "data": {
      "text/plain": [
       "24 hours    233142\n",
       "5 days      124910\n",
       "2 hours      30479\n",
       "1 hour       13482\n",
       "Name: RESPONSE_TIME, dtype: int64"
      ]
     },
     "execution_count": 46,
     "metadata": {},
     "output_type": "execute_result"
    }
   ],
   "source": [
    "df['RESPONSE_TIME'].value_counts()"
   ]
  },
  {
   "cell_type": "code",
   "execution_count": 47,
   "metadata": {
    "scrolled": true
   },
   "outputs": [
    {
     "data": {
      "text/plain": [
       "<matplotlib.axes._subplots.AxesSubplot at 0x7f90bad2dc10>"
      ]
     },
     "execution_count": 47,
     "metadata": {},
     "output_type": "execute_result"
    },
    {
     "data": {
      "image/png": "[encoded data removed]",
      "text/plain": [
       "<Figure size 432x288 with 1 Axes>"
      ]
     },
     "metadata": {
      "needs_background": "light"
     },
     "output_type": "display_data"
    }
   ],
   "source": [
    "sns.countplot(x='RESPONSE_TIME',data=df, hue='SUBSTANTIATED')"
   ]
  },
  {
   "cell_type": "code",
   "execution_count": 48,
   "metadata": {},
   "outputs": [],
   "source": [
    "pct_5t = len(df[df['RESPONSE_TIME']=='5 days'])/len(df['RESPONSE_TIME'])\n",
    "pct_24t = len(df[df['RESPONSE_TIME']=='24 hours'])/len(df['RESPONSE_TIME'])\n",
    "pct_1t = len(df[df['RESPONSE_TIME']=='1 hour'])/len(df['RESPONSE_TIME'])\n",
    "pct_2t = len(df[df['RESPONSE_TIME']=='2 hours'])/len(df['RESPONSE_TIME'])"
   ]
  },
  {
   "cell_type": "code",
   "execution_count": 49,
   "metadata": {},
   "outputs": [
    {
     "name": "stdout",
     "output_type": "stream",
     "text": [
      "Percentage of total cases with a response time of 5 days: 31%\n",
      "Percentage of total cases with a response time of 24 hours: 58%\n",
      "Percentage of total cases with a response time of 1 hour: 3%\n",
      "Percentage of total cases with a response time of 2 hours: 8%%\n"
     ]
    }
   ],
   "source": [
    "print('Percentage of total cases with a response time of 5 days: {0:.0%}'.format(pct_5t))\n",
    "print('Percentage of total cases with a response time of 24 hours: {0:.0%}'.format(pct_24t))\n",
    "print('Percentage of total cases with a response time of 1 hour: {0:.0%}'.format(pct_1t))\n",
    "print('Percentage of total cases with a response time of 2 hours: {0:.0%}%'.format(pct_2t))"
   ]
  },
  {
   "cell_type": "code",
   "execution_count": 50,
   "metadata": {},
   "outputs": [],
   "source": [
    "pct_5 = len(df[(df['RESPONSE_TIME']=='5 days') & (df['SUBSTANTIATED']==1)])/len((df[df['RESPONSE_TIME']=='5 days']))\n",
    "pct_24 = len(df[(df['RESPONSE_TIME']=='24 hours') & (df['SUBSTANTIATED']==1)])/len((df[df['RESPONSE_TIME']=='24 hours']))\n",
    "pct_1 = len(df[(df['RESPONSE_TIME']=='1 hour') & (df['SUBSTANTIATED']==1)])/len((df[df['RESPONSE_TIME']=='1 hour']))\n",
    "pct_2 = len(df[(df['RESPONSE_TIME']=='2 hours') & (df['SUBSTANTIATED']==1)])/len((df[df['RESPONSE_TIME']=='2 hours']))"
   ]
  },
  {
   "cell_type": "code",
   "execution_count": 51,
   "metadata": {},
   "outputs": [
    {
     "name": "stdout",
     "output_type": "stream",
     "text": [
      "Percentage of substantiated cases with a response time of 5 days: 7%\n",
      "Percentage of substantiated cases with a response time of 24 hours: 15%\n",
      "Percentage of substantiated cases with a response time of 1 hour: 22%\n",
      "Percentage of substantiated cases with a response time of 2 hours: 21%\n"
     ]
    }
   ],
   "source": [
    "print('Percentage of substantiated cases with a response time of 5 days: {0:.0%}'.format(pct_5))\n",
    "print('Percentage of substantiated cases with a response time of 24 hours: {0:.0%}'.format(pct_24))\n",
    "print('Percentage of substantiated cases with a response time of 1 hour: {0:.0%}'.format(pct_1))\n",
    "print('Percentage of substantiated cases with a response time of 2 hours: {0:.0%}'.format(pct_2))"
   ]
  },
  {
   "cell_type": "code",
   "execution_count": 52,
   "metadata": {},
   "outputs": [
    {
     "data": {
      "text/plain": [
       "<matplotlib.axes._subplots.AxesSubplot at 0x7f90b967dc10>"
      ]
     },
     "execution_count": 52,
     "metadata": {},
     "output_type": "execute_result"
    },
    {
     "data": {
      "image/png": "[encoded data removed]",
      "text/plain": [
       "<Figure size 432x288 with 1 Axes>"
      ]
     },
     "metadata": {
      "needs_background": "light"
     },
     "output_type": "display_data"
    }
   ],
   "source": [
    "sns.countplot(x='RESPONSE_TIME',data=df, hue='ASSESSMENT_DECISION')"
   ]
  },
  {
   "cell_type": "code",
   "execution_count": 53,
   "metadata": {},
   "outputs": [
    {
     "data": {
      "text/plain": [
       "<matplotlib.axes._subplots.AxesSubplot at 0x7f90bca2ac40>"
      ]
     },
     "execution_count": 53,
     "metadata": {},
     "output_type": "execute_result"
    },
    {
     "data": {
      "image/png": "[encoded data removed]",
      "text/plain": [
       "<Figure size 432x288 with 1 Axes>"
      ]
     },
     "metadata": {
      "needs_background": "light"
     },
     "output_type": "display_data"
    }
   ],
   "source": [
    "sns.countplot(x='ASSESSMENT_DECISION',data=df, hue='RESPONSE_TIME')"
   ]
  },
  {
   "cell_type": "code",
   "execution_count": null,
   "metadata": {},
   "outputs": [],
   "source": []
  }
 ],
 "metadata": {
  "kernelspec": {
   "display_name": "Python 3",
   "language": "python",
   "name": "python3"
  },
  "language_info": {
   "codemirror_mode": {
    "name": "ipython",
    "version": 3
   },
   "file_extension": ".py",
   "mimetype": "text/x-python",
   "name": "python",
   "nbconvert_exporter": "python",
   "pygments_lexer": "ipython3",
   "version": "3.8.2"
  }
 },
 "nbformat": 4,
 "nbformat_minor": 4
}
